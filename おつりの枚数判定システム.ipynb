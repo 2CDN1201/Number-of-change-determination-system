{
  "nbformat": 4,
  "nbformat_minor": 0,
  "metadata": {
    "colab": {
      "provenance": []
    },
    "kernelspec": {
      "name": "python3",
      "display_name": "Python 3"
    },
    "language_info": {
      "name": "python"
    }
  },
  "cells": [
    {
      "cell_type": "code",
      "execution_count": 3,
      "metadata": {
        "colab": {
          "base_uri": "https://localhost:8080/"
        },
        "id": "shpM-gLMS_VJ",
        "outputId": "c8b16a48-3475-44b9-d42c-39b2db4b3de1"
      },
      "outputs": [
        {
          "output_type": "stream",
          "name": "stdout",
          "text": [
            "支払い金額を入力してください: 1000\n",
            "購入金額を入力してください: 599\n",
            "おつりの枚数:\n",
            "500円: 0枚\n",
            "100円: 4枚\n",
            "50円: 0枚\n",
            "10円: 0枚\n",
            "1円: 1枚\n"
          ]
        }
      ],
      "source": [
        "def calculate_change(payment, cost):\n",
        "    change = payment - cost\n",
        "    coins = [500, 100, 50, 10,1]\n",
        "    result = {}\n",
        "\n",
        "    for coin in coins:\n",
        "        result[coin], change = divmod(change, coin)\n",
        "\n",
        "    return result\n",
        "\n",
        "def main():\n",
        "    payment = int(input(\"支払い金額を入力してください: \"))\n",
        "    cost = int(input(\"購入金額を入力してください: \"))\n",
        "\n",
        "    if payment < cost:\n",
        "        print(\"支払い金額が購入金額より少ないです。\")\n",
        "        return\n",
        "\n",
        "    change = calculate_change(payment, cost)\n",
        "    print(\"おつりの枚数:\")\n",
        "    for coin, count in change.items():\n",
        "        print(f\"{coin}円: {count}枚\")\n",
        "\n",
        "if __name__ == \"__main__\":\n",
        "    main()\n"
      ]
    }
  ]
}